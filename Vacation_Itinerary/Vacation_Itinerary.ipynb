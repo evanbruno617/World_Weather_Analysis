{
 "cells": [
  {
   "cell_type": "code",
   "execution_count": 1,
   "id": "797bb384",
   "metadata": {},
   "outputs": [],
   "source": [
    "## Deliverable 3. Create a Travel Itinerary Map.\n",
    "# Dependencies and Setup\n",
    "import pandas as pd\n",
    "import requests\n",
    "import gmaps\n",
    "\n",
    "# Import API key\n",
    "from config import g_key"
   ]
  },
  {
   "cell_type": "code",
   "execution_count": 2,
   "id": "b250ad07",
   "metadata": {},
   "outputs": [
    {
     "data": {
      "text/html": [
       "<div>\n",
       "<style scoped>\n",
       "    .dataframe tbody tr th:only-of-type {\n",
       "        vertical-align: middle;\n",
       "    }\n",
       "\n",
       "    .dataframe tbody tr th {\n",
       "        vertical-align: top;\n",
       "    }\n",
       "\n",
       "    .dataframe thead th {\n",
       "        text-align: right;\n",
       "    }\n",
       "</style>\n",
       "<table border=\"1\" class=\"dataframe\">\n",
       "  <thead>\n",
       "    <tr style=\"text-align: right;\">\n",
       "      <th></th>\n",
       "      <th>City_ID</th>\n",
       "      <th>City</th>\n",
       "      <th>Country</th>\n",
       "      <th>Max Temp</th>\n",
       "      <th>Current Description</th>\n",
       "      <th>Lat</th>\n",
       "      <th>Lng</th>\n",
       "      <th>Hotel Name</th>\n",
       "    </tr>\n",
       "  </thead>\n",
       "  <tbody>\n",
       "    <tr>\n",
       "      <th>0</th>\n",
       "      <td>1</td>\n",
       "      <td>Manjeshwar</td>\n",
       "      <td>IN</td>\n",
       "      <td>83.35</td>\n",
       "      <td>clear sky</td>\n",
       "      <td>12.7194</td>\n",
       "      <td>74.8861</td>\n",
       "      <td>Mangalore Beach House - EWA Ikigai</td>\n",
       "    </tr>\n",
       "    <tr>\n",
       "      <th>1</th>\n",
       "      <td>3</td>\n",
       "      <td>Santa Maria</td>\n",
       "      <td>BR</td>\n",
       "      <td>76.30</td>\n",
       "      <td>moderate rain</td>\n",
       "      <td>-29.6842</td>\n",
       "      <td>-53.8069</td>\n",
       "      <td>Hotel Morotin</td>\n",
       "    </tr>\n",
       "    <tr>\n",
       "      <th>2</th>\n",
       "      <td>9</td>\n",
       "      <td>Bubaque</td>\n",
       "      <td>GW</td>\n",
       "      <td>76.17</td>\n",
       "      <td>overcast clouds</td>\n",
       "      <td>11.2833</td>\n",
       "      <td>-15.8333</td>\n",
       "      <td>Casa Dora, Bubaque</td>\n",
       "    </tr>\n",
       "    <tr>\n",
       "      <th>3</th>\n",
       "      <td>15</td>\n",
       "      <td>Bathsheba</td>\n",
       "      <td>BB</td>\n",
       "      <td>84.81</td>\n",
       "      <td>scattered clouds</td>\n",
       "      <td>13.2167</td>\n",
       "      <td>-59.5167</td>\n",
       "      <td>Atlantis Hotel</td>\n",
       "    </tr>\n",
       "    <tr>\n",
       "      <th>4</th>\n",
       "      <td>18</td>\n",
       "      <td>Hithadhoo</td>\n",
       "      <td>MV</td>\n",
       "      <td>82.76</td>\n",
       "      <td>clear sky</td>\n",
       "      <td>-0.6000</td>\n",
       "      <td>73.0833</td>\n",
       "      <td>Scoop Guest House</td>\n",
       "    </tr>\n",
       "  </tbody>\n",
       "</table>\n",
       "</div>"
      ],
      "text/plain": [
       "   City_ID         City Country  Max Temp Current Description      Lat  \\\n",
       "0        1   Manjeshwar      IN     83.35           clear sky  12.7194   \n",
       "1        3  Santa Maria      BR     76.30       moderate rain -29.6842   \n",
       "2        9      Bubaque      GW     76.17     overcast clouds  11.2833   \n",
       "3       15    Bathsheba      BB     84.81    scattered clouds  13.2167   \n",
       "4       18    Hithadhoo      MV     82.76           clear sky  -0.6000   \n",
       "\n",
       "       Lng                          Hotel Name  \n",
       "0  74.8861  Mangalore Beach House - EWA Ikigai  \n",
       "1 -53.8069                       Hotel Morotin  \n",
       "2 -15.8333                  Casa Dora, Bubaque  \n",
       "3 -59.5167                      Atlantis Hotel  \n",
       "4  73.0833                   Scoop Guest House  "
      ]
     },
     "execution_count": 2,
     "metadata": {},
     "output_type": "execute_result"
    }
   ],
   "source": [
    "# Configure gmaps\n",
    "gmaps.configure(api_key=g_key)\n",
    "# 1. Read the WeatherPy_vacation.csv into a DataFrame.\n",
    "vacation_df = pd.read_csv(\"../Vacation_Search/hotel_info.csv\")\n",
    "\n",
    "vacation_df.head()"
   ]
  },
  {
   "cell_type": "code",
   "execution_count": 3,
   "id": "691c82ff",
   "metadata": {},
   "outputs": [],
   "source": [
    "# 2. Using the template add the city name, the country code, the weather description and maximum temperature for the city.\n",
    "info_box_template = \"\"\"\n",
    "<dl>\n",
    "<dt> City Name </dt><dd> {City} </dd>\n",
    "<dt> Country </dt><dd> {Country} </dd>\n",
    "<dt> Weather description </dt><dd> {Current Description} and {Max Temp} °F</dd>\n",
    "</dl>\n",
    "\n",
    "\"\"\"\n",
    "\n",
    "# 3a. Get the data from each row and add it to the formatting template and store the data in a list.\n",
    "city_info = [info_box_template.format(**row) for index, row in vacation_df.iterrows()]"
   ]
  },
  {
   "cell_type": "code",
   "execution_count": 4,
   "id": "29d043cc",
   "metadata": {},
   "outputs": [
    {
     "data": {
      "application/vnd.jupyter.widget-view+json": {
       "model_id": "5432fe8f4aa34a939f151d3df5b91999",
       "version_major": 2,
       "version_minor": 0
      },
      "text/plain": [
       "Figure(layout=FigureLayout(height='420px'))"
      ]
     },
     "metadata": {},
     "output_type": "display_data"
    }
   ],
   "source": [
    "# 3b. Get the latitude and longitude from each row and store in a new DataFrame.\n",
    "locations = vacation_df[[\"Lat\", \"Lng\"]]\n",
    "# 4a. Add a marker layer for each city to the map.\n",
    "\n",
    "fig = gmaps.figure(center = (30.0, 31.0), zoom_level = 1.5)\n",
    "\n",
    "marker_layer = gmaps.marker_layer(locations, info_box_content = city_info)\n",
    "\n",
    "fig.add_layer(marker_layer)\n",
    "\n",
    "fig\n",
    "# 4b. Display the figure"
   ]
  },
  {
   "cell_type": "code",
   "execution_count": 5,
   "id": "7fa0b8e2",
   "metadata": {},
   "outputs": [
    {
     "name": "stdout",
     "output_type": "stream",
     "text": [
      "What city do you want to start your trip in?Sibolga\n",
      "What city do you want to have as your first stop?Padang\n",
      "What city do you want to have as your second stop?Bengkulu\n",
      "What city do you want to have as your third stop?Palembang\n"
     ]
    }
   ],
   "source": [
    "# From the map above pick 4 cities and create a vacation itinerary route to travel between the four cities.\n",
    "start_trip = input(\"What city do you want to start your trip in?\")\n",
    "stop1_trip = input(\"What city do you want to have as your first stop?\")\n",
    "stop2_trip = input(\"What city do you want to have as your second stop?\")\n",
    "stop3_trip = input(\"What city do you want to have as your third stop?\")\n",
    "# 5. Create DataFrames for each city by filtering the 'vacation_df' using the loc method. \n",
    "# Hint: The starting and ending city should be the same city."
   ]
  },
  {
   "cell_type": "code",
   "execution_count": 6,
   "id": "f339612b",
   "metadata": {},
   "outputs": [],
   "source": [
    "vacation_start = vacation_df.loc[vacation_df[\"City\"] == start_trip]\n",
    "vacation_end = vacation_df.loc[vacation_df[\"City\"] == start_trip]\n",
    "vacation_stop1 = vacation_df.loc[vacation_df[\"City\"] == stop1_trip]\n",
    "vacation_stop2 = vacation_df.loc[vacation_df[\"City\"] == stop2_trip] \n",
    "vacation_stop3 = vacation_df.loc[vacation_df[\"City\"] == stop3_trip] "
   ]
  },
  {
   "cell_type": "code",
   "execution_count": null,
   "id": "82ad9320",
   "metadata": {},
   "outputs": [],
   "source": []
  },
  {
   "cell_type": "code",
   "execution_count": 8,
   "id": "68d4bff4",
   "metadata": {},
   "outputs": [],
   "source": [
    "# 6. Get the latitude-longitude pairs as tuples from each city DataFrame using the to_numpy function and list indexing.\n",
    "start = vacation_start[\"Lat\"].to_numpy()[0], vacation_start[\"Lng\"].to_numpy()[0]\n",
    "end = vacation_end[\"Lat\"].to_numpy()[0], vacation_end[\"Lng\"].to_numpy()[0]\n",
    "stop1 = vacation_stop1[\"Lat\"].to_numpy()[0], vacation_stop1[\"Lng\"].to_numpy()[0]\n",
    "stop2 = vacation_stop2[\"Lat\"].to_numpy()[0], vacation_stop2[\"Lng\"].to_numpy()[0]\n",
    "stop3 = vacation_stop3[\"Lat\"].to_numpy()[0], vacation_stop3[\"Lng\"].to_numpy()[0]"
   ]
  },
  {
   "cell_type": "code",
   "execution_count": 9,
   "id": "d0f9b649",
   "metadata": {},
   "outputs": [
    {
     "data": {
      "text/plain": [
       "(-2.9167, 104.7458)"
      ]
     },
     "execution_count": 9,
     "metadata": {},
     "output_type": "execute_result"
    }
   ],
   "source": [
    "stop3\n"
   ]
  },
  {
   "cell_type": "code",
   "execution_count": 10,
   "id": "59cdf4d6",
   "metadata": {},
   "outputs": [
    {
     "data": {
      "application/vnd.jupyter.widget-view+json": {
       "model_id": "d3dee15ebdf94e5b8ac47817f87a6f97",
       "version_major": 2,
       "version_minor": 0
      },
      "text/plain": [
       "Figure(layout=FigureLayout(height='420px'))"
      ]
     },
     "metadata": {},
     "output_type": "display_data"
    }
   ],
   "source": [
    "# 7. Create a direction layer map using the start and end latitude-longitude pairs,\n",
    "# and stop1, stop2, and stop3 as the waypoints. The travel_mode should be \"DRIVING\", \"BICYCLING\", or \"WALKING\".\n",
    "fig = gmaps.figure()\n",
    "travel_trip = gmaps.directions_layer(start, end, \n",
    "                                     waypoints=[stop1, stop2, stop3], travel_mode='DRIVING')\n",
    "fig.add_layer(travel_trip)\n",
    "fig"
   ]
  },
  {
   "cell_type": "code",
   "execution_count": null,
   "id": "2e21431a",
   "metadata": {},
   "outputs": [],
   "source": []
  },
  {
   "cell_type": "code",
   "execution_count": null,
   "id": "124b7324",
   "metadata": {},
   "outputs": [],
   "source": []
  },
  {
   "cell_type": "code",
   "execution_count": null,
   "id": "9f792f07",
   "metadata": {},
   "outputs": [],
   "source": []
  },
  {
   "cell_type": "code",
   "execution_count": 11,
   "id": "2318f06a",
   "metadata": {},
   "outputs": [
    {
     "data": {
      "application/vnd.jupyter.widget-view+json": {
       "model_id": "96b0f71757544b1c8ecb03ba9b157120",
       "version_major": 2,
       "version_minor": 0
      },
      "text/plain": [
       "Figure(layout=FigureLayout(height='420px'))"
      ]
     },
     "metadata": {},
     "output_type": "display_data"
    }
   ],
   "source": [
    "\n",
    "# 8. To create a marker layer map between the four cities.\n",
    "marker_locations = [start, stop1, stop2, stop3]\n",
    "\n",
    "#  Combine the four city DataFrames into one DataFrame using the concat() function.\n",
    "itinerary_df = pd.concat([vacation_start, vacation_stop1, vacation_stop2, vacation_stop3],ignore_index=True)\n",
    "itinerary_df\n",
    "\n",
    "# 9 Using the template add city name, the country code, the weather description and maximum temperature for the city. \n",
    "info_box_template = \"\"\"\n",
    "<dl>\n",
    "<dt> Hotel Name </dt><dd> {Hotel Name} </dd>\n",
    "<dt> City Name </dt><dd> {City} </dd>\n",
    "<dt> Country </dt><dd> {Country} </dd>\n",
    "<dt> Weather description </dt><dd> {Current Description} and {Max Temp} °F</dd>\n",
    "</dl>\n",
    "\n",
    "\"\"\"\n",
    "\n",
    "# 10a Get the data from each row and add it to the formatting template and store the data in a list.\n",
    "trip_info = [info_box_template.format(**row) for index, row in itinerary_df.iterrows()]\n",
    "trip_layer = gmaps.marker_layer(marker_locations, info_box_content = trip_info)\n",
    "# 10b. Get the latitude and longitude from each row and store in a new DataFrame.\n",
    "locations = itinerary_df[[\"Lat\", \"Lng\"]]\n",
    "# 11a. Add a marker layer for each city to the map.\n",
    "fig = gmaps.figure()\n",
    "fig.add_layer(trip_layer)\n",
    "\n",
    "fig\n",
    "# 11b. Display the figure"
   ]
  },
  {
   "cell_type": "code",
   "execution_count": null,
   "id": "ef901720",
   "metadata": {},
   "outputs": [],
   "source": []
  },
  {
   "cell_type": "code",
   "execution_count": null,
   "id": "f4eb91ca",
   "metadata": {},
   "outputs": [],
   "source": []
  }
 ],
 "metadata": {
  "kernelspec": {
   "display_name": "PythonData",
   "language": "python",
   "name": "pythondata"
  },
  "language_info": {
   "codemirror_mode": {
    "name": "ipython",
    "version": 3
   },
   "file_extension": ".py",
   "mimetype": "text/x-python",
   "name": "python",
   "nbconvert_exporter": "python",
   "pygments_lexer": "ipython3",
   "version": "3.9.7"
  }
 },
 "nbformat": 4,
 "nbformat_minor": 5
}
